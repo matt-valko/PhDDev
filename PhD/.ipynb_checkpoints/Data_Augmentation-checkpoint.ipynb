{
 "cells": [
  {
   "cell_type": "code",
   "execution_count": null,
   "id": "different-parks",
   "metadata": {},
   "outputs": [],
   "source": []
  },
  {
   "cell_type": "code",
   "execution_count": null,
   "id": "owned-partition",
   "metadata": {},
   "outputs": [],
   "source": [
    "  im = Image.open(os.path.join(root, dir,name))\n",
    "                        print (\"Generating jpeg for %s\" % name)\n",
    "                        im.thumbnail(im.size)\n",
    "                        im.save(outfile, \"JPEG\", quality=100)"
   ]
  }
 ],
 "metadata": {
  "kernelspec": {
   "display_name": "Python 3",
   "language": "python",
   "name": "python3"
  },
  "language_info": {
   "codemirror_mode": {
    "name": "ipython",
    "version": 3
   },
   "file_extension": ".py",
   "mimetype": "text/x-python",
   "name": "python",
   "nbconvert_exporter": "python",
   "pygments_lexer": "ipython3",
   "version": "3.7.10"
  }
 },
 "nbformat": 4,
 "nbformat_minor": 5
}
