{
 "cells": [
  {
   "cell_type": "code",
   "execution_count": 2,
   "id": "3c874e20",
   "metadata": {},
   "outputs": [],
   "source": [
    "import numpy\n",
    "from PIL import Image, ImageDraw\n",
    "\n",
    "# read image as RGB (without alpha)\n",
    "img = Image.open(\"C:\\\\Users\\\\valko\\\\Documents\\\\Thesis_Data\\\\Bursera penicillata\\\\img\\\\Burspen_TEX_Holmes_10286_16Jul1999.jpg\").convert(\"RGB\")\n",
    "\n"
   ]
  },
  {
   "cell_type": "code",
   "execution_count": 5,
   "id": "c2162caf",
   "metadata": {},
   "outputs": [
    {
     "data": {
      "text/plain": [
       "(3840, 5760)"
      ]
     },
     "execution_count": 5,
     "metadata": {},
     "output_type": "execute_result"
    }
   ],
   "source": [
    "img.size\n"
   ]
  },
  {
   "cell_type": "code",
   "execution_count": 3,
   "id": "75915159",
   "metadata": {},
   "outputs": [
    {
     "ename": "TypeError",
     "evalue": "object of type 'Image' has no len()",
     "output_type": "error",
     "traceback": [
      "\u001b[1;31m---------------------------------------------------------------------------\u001b[0m",
      "\u001b[1;31mTypeError\u001b[0m                                 Traceback (most recent call last)",
      "\u001b[1;32m<ipython-input-3-e125bf6527ee>\u001b[0m in \u001b[0;36m<module>\u001b[1;34m\u001b[0m\n\u001b[1;32m----> 1\u001b[1;33m \u001b[0mlen\u001b[0m\u001b[1;33m(\u001b[0m\u001b[0mimg\u001b[0m\u001b[1;33m)\u001b[0m\u001b[1;33m\u001b[0m\u001b[1;33m\u001b[0m\u001b[0m\n\u001b[0m",
      "\u001b[1;31mTypeError\u001b[0m: object of type 'Image' has no len()"
     ]
    }
   ],
   "source": [
    "len(img)"
   ]
  },
  {
   "cell_type": "code",
   "execution_count": 6,
   "id": "9c6eb011",
   "metadata": {},
   "outputs": [],
   "source": [
    "# convert to numpy (for convenience)\n",
    "img_array = numpy.asarray(img)\n",
    "\n",
    "# create mask\n",
    "polygon = [(444,203),(623,243),(691,177),(581,26),(482,42)]\n",
    "\n",
    "# create new image (\"1-bit pixels, black and white\", (width, height), \"default color\")\n",
    "mask_img = Image.new('1', (img_array.shape[1], img_array.shape[0]), 0)\n",
    "\n",
    "ImageDraw.Draw(mask_img).polygon(polygon, outline=1, fill=1)\n",
    "mask = numpy.array(mask_img)\n",
    "\n",
    "# assemble new image (uint8: 0-255)\n",
    "new_img_array = numpy.empty(img_array.shape, dtype='uint8')\n",
    "\n",
    "# copy color values (RGB)\n",
    "new_img_array[:,:,:3] = img_array[:,:,:3]\n",
    "\n",
    "# filtering image by mask\n",
    "new_img_array[:,:,0] = new_img_array[:,:,0] * mask\n",
    "new_img_array[:,:,1] = new_img_array[:,:,1] * mask\n",
    "new_img_array[:,:,2] = new_img_array[:,:,2] * mask\n",
    "\n",
    "# back to Image from numpy\n",
    "newIm = Image.fromarray(new_img_array, \"RGB\")\n",
    "newIm.save(\"out.jpg\")"
   ]
  },
  {
   "cell_type": "code",
   "execution_count": 7,
   "id": "2ff19e87",
   "metadata": {},
   "outputs": [],
   "source": [
    "newIm.show()"
   ]
  },
  {
   "cell_type": "code",
   "execution_count": 8,
   "id": "404608af",
   "metadata": {},
   "outputs": [
    {
     "data": {
      "text/plain": [
       "<matplotlib.image.AxesImage at 0x1c5621fb1c0>"
      ]
     },
     "execution_count": 8,
     "metadata": {},
     "output_type": "execute_result"
    },
    {
     "data": {
      "image/png": "[encoded data removed]",
      "text/plain": [
       "<Figure size 432x288 with 1 Axes>"
      ]
     },
     "metadata": {
      "needs_background": "light"
     },
     "output_type": "display_data"
    }
   ],
   "source": [
    "from matplotlib.pyplot import imshow\n",
    "\n",
    "\n",
    "imshow(new_img_array)"
   ]
  },
  {
   "cell_type": "code",
   "execution_count": null,
   "id": "f4ec93f7",
   "metadata": {},
   "outputs": [],
   "source": [
    " "
   ]
  }
 ],
 "metadata": {
  "kernelspec": {
   "display_name": "Python 3",
   "language": "python",
   "name": "python3"
  },
  "language_info": {
   "codemirror_mode": {
    "name": "ipython",
    "version": 3
   },
   "file_extension": ".py",
   "mimetype": "text/x-python",
   "name": "python",
   "nbconvert_exporter": "python",
   "pygments_lexer": "ipython3",
   "version": "3.8.8"
  }
 },
 "nbformat": 4,
 "nbformat_minor": 5
}
