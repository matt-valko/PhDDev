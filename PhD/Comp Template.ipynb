{
 "cells": [
  {
   "cell_type": "code",
   "execution_count": 2,
   "metadata": {},
   "outputs": [
    {
     "name": "stderr",
     "output_type": "stream",
     "text": [
      "Using TensorFlow backend.\n"
     ]
    }
   ],
   "source": [
    "import pandas as pd\n",
    "import numpy as np\n",
    "import json as json\n",
    "import matplotlib.pyplot as plt \n",
    "\n",
    "\n",
    "\n",
    "import matplotlib.pyplot as plt\n",
    "import seaborn as sns\n",
    "\n",
    "import keras\n",
    "from keras.models import Sequential\n",
    "from keras.preprocessing.image import ImageDataGenerator\n",
    "from keras.optimizers import Adam\n",
    "from keras import losses\n",
    "from keras import optimizers\n",
    "from keras import metrics\n",
    "from sklearn.metrics import classification_report,confusion_matrix\n",
    "from sklearn import metrics\n",
    "from keras.layers import Dense, Activation, Dropout, Flatten, Conv2D, MaxPooling2D,MaxPool2D\n",
    "from keras.layers.normalization import BatchNormalization\n",
    "import numpy as np\n",
    "\n",
    "import tensorflow as tf\n",
    "\n",
    "import cv2\n",
    "import os\n",
    "\n",
    "from keras.optimizers import RMSprop\n",
    "import matplotlib.pyplot as plt\n",
    "from sklearn import metrics\n",
    "import itertools\n",
    "#Heatmap https://stackoverflow.com/questions/65618137/confusion-matrix-for-multiple-classes-in-python\n"
   ]
  },
  {
   "cell_type": "code",
   "execution_count": 3,
   "metadata": {},
   "outputs": [],
   "source": [
    "with open('/Users/mattvalko/Documents/PHD/metadata.json',encoding=\"latin-1\") as json_data:\n",
    "    data = json.load(json_data)"
   ]
  },
  {
   "cell_type": "code",
   "execution_count": 4,
   "metadata": {},
   "outputs": [],
   "source": [
    "#from pandas import json_normalize\n",
    "info = pd.json_normalize(data[\"annotations\"])"
   ]
  },
  {
   "cell_type": "code",
   "execution_count": 5,
   "metadata": {},
   "outputs": [
    {
     "data": {
      "text/html": [
       "<div>\n",
       "<style scoped>\n",
       "    .dataframe tbody tr th:only-of-type {\n",
       "        vertical-align: middle;\n",
       "    }\n",
       "\n",
       "    .dataframe tbody tr th {\n",
       "        vertical-align: top;\n",
       "    }\n",
       "\n",
       "    .dataframe thead th {\n",
       "        text-align: right;\n",
       "    }\n",
       "</style>\n",
       "<table border=\"1\" class=\"dataframe\">\n",
       "  <thead>\n",
       "    <tr style=\"text-align: right;\">\n",
       "      <th></th>\n",
       "      <th>category_id</th>\n",
       "      <th>id</th>\n",
       "      <th>image_id</th>\n",
       "      <th>region_id</th>\n",
       "    </tr>\n",
       "  </thead>\n",
       "  <tbody>\n",
       "    <tr>\n",
       "      <th>0</th>\n",
       "      <td>15672</td>\n",
       "      <td>354106</td>\n",
       "      <td>354106</td>\n",
       "      <td>1</td>\n",
       "    </tr>\n",
       "    <tr>\n",
       "      <th>1</th>\n",
       "      <td>11524</td>\n",
       "      <td>818566</td>\n",
       "      <td>818566</td>\n",
       "      <td>1</td>\n",
       "    </tr>\n",
       "    <tr>\n",
       "      <th>2</th>\n",
       "      <td>11524</td>\n",
       "      <td>750704</td>\n",
       "      <td>750704</td>\n",
       "      <td>1</td>\n",
       "    </tr>\n",
       "    <tr>\n",
       "      <th>3</th>\n",
       "      <td>11467</td>\n",
       "      <td>722381</td>\n",
       "      <td>722381</td>\n",
       "      <td>1</td>\n",
       "    </tr>\n",
       "    <tr>\n",
       "      <th>4</th>\n",
       "      <td>15660</td>\n",
       "      <td>382783</td>\n",
       "      <td>382783</td>\n",
       "      <td>1</td>\n",
       "    </tr>\n",
       "    <tr>\n",
       "      <th>...</th>\n",
       "      <td>...</td>\n",
       "      <td>...</td>\n",
       "      <td>...</td>\n",
       "      <td>...</td>\n",
       "    </tr>\n",
       "    <tr>\n",
       "      <th>1030742</th>\n",
       "      <td>24148</td>\n",
       "      <td>856534</td>\n",
       "      <td>856534</td>\n",
       "      <td>3</td>\n",
       "    </tr>\n",
       "    <tr>\n",
       "      <th>1030743</th>\n",
       "      <td>5142</td>\n",
       "      <td>541440</td>\n",
       "      <td>541440</td>\n",
       "      <td>1</td>\n",
       "    </tr>\n",
       "    <tr>\n",
       "      <th>1030744</th>\n",
       "      <td>27240</td>\n",
       "      <td>927988</td>\n",
       "      <td>927988</td>\n",
       "      <td>1</td>\n",
       "    </tr>\n",
       "    <tr>\n",
       "      <th>1030745</th>\n",
       "      <td>269</td>\n",
       "      <td>242745</td>\n",
       "      <td>242745</td>\n",
       "      <td>2</td>\n",
       "    </tr>\n",
       "    <tr>\n",
       "      <th>1030746</th>\n",
       "      <td>29295</td>\n",
       "      <td>356426</td>\n",
       "      <td>356426</td>\n",
       "      <td>2</td>\n",
       "    </tr>\n",
       "  </tbody>\n",
       "</table>\n",
       "<p>1030747 rows × 4 columns</p>\n",
       "</div>"
      ],
      "text/plain": [
       "         category_id      id  image_id  region_id\n",
       "0              15672  354106    354106          1\n",
       "1              11524  818566    818566          1\n",
       "2              11524  750704    750704          1\n",
       "3              11467  722381    722381          1\n",
       "4              15660  382783    382783          1\n",
       "...              ...     ...       ...        ...\n",
       "1030742        24148  856534    856534          3\n",
       "1030743         5142  541440    541440          1\n",
       "1030744        27240  927988    927988          1\n",
       "1030745          269  242745    242745          2\n",
       "1030746        29295  356426    356426          2\n",
       "\n",
       "[1030747 rows x 4 columns]"
      ]
     },
     "execution_count": 5,
     "metadata": {},
     "output_type": "execute_result"
    }
   ],
   "source": [
    "info"
   ]
  },
  {
   "cell_type": "code",
   "execution_count": 6,
   "metadata": {},
   "outputs": [],
   "source": [
    "label = pd.json_normalize(data[\"categories\"])"
   ]
  },
  {
   "cell_type": "code",
   "execution_count": 7,
   "metadata": {},
   "outputs": [],
   "source": [
    "files = pd.json_normalize(data[ \"images\"])"
   ]
  },
  {
   "cell_type": "code",
   "execution_count": 8,
   "metadata": {},
   "outputs": [],
   "source": [
    "#get the folder to subset\n",
    "files['folder']=files['file_name'].str[7:10]"
   ]
  },
  {
   "cell_type": "code",
   "execution_count": 9,
   "metadata": {},
   "outputs": [],
   "source": [
    "fullDF = files[files[\"folder\"].astype(int) < 11]"
   ]
  },
  {
   "cell_type": "code",
   "execution_count": 10,
   "metadata": {},
   "outputs": [],
   "source": [
    "#Inner join all the data\n",
    "merged=info.merge(fullDF,on='id',how=\"inner\")\n"
   ]
  },
  {
   "cell_type": "code",
   "execution_count": 11,
   "metadata": {},
   "outputs": [],
   "source": [
    "cnts=merged.groupby(['category_id'])['id'].count()"
   ]
  },
  {
   "cell_type": "code",
   "execution_count": 12,
   "metadata": {},
   "outputs": [
    {
     "data": {
      "text/plain": [
       "<AxesSubplot:xlabel='category_id'>"
      ]
     },
     "execution_count": 12,
     "metadata": {},
     "output_type": "execute_result"
    },
    {
     "data": {
      "image/png": "[encoded data removed]",
      "text/plain": [
       "<Figure size 432x288 with 1 Axes>"
      ]
     },
     "metadata": {
      "needs_background": "light"
     },
     "output_type": "display_data"
    }
   ],
   "source": [
    "cnts.plot() "
   ]
  },
  {
   "cell_type": "code",
   "execution_count": 13,
   "metadata": {},
   "outputs": [],
   "source": [
    "catIDS=cnts[cnts > 500]#.index\n"
   ]
  },
  {
   "cell_type": "code",
   "execution_count": 14,
   "metadata": {},
   "outputs": [
    {
     "data": {
      "text/plain": [
       "category_id\n",
       "157     560\n",
       "163    1195\n",
       "176     560\n",
       "297     523\n",
       "463     539\n",
       "743     576\n",
       "747     806\n",
       "755     656\n",
       "Name: id, dtype: int64"
      ]
     },
     "execution_count": 14,
     "metadata": {},
     "output_type": "execute_result"
    }
   ],
   "source": [
    "catIDS"
   ]
  },
  {
   "cell_type": "code",
   "execution_count": 68,
   "metadata": {},
   "outputs": [
    {
     "data": {
      "text/plain": [
       "<AxesSubplot:ylabel='category_id'>"
      ]
     },
     "execution_count": 68,
     "metadata": {},
     "output_type": "execute_result"
    },
    {
     "data": {
      "image/png": "[encoded data removed]",
      "text/plain": [
       "<Figure size 432x288 with 1 Axes>"
      ]
     },
     "metadata": {
      "needs_background": "light"
     },
     "output_type": "display_data"
    }
   ],
   "source": [
    "catIDS.plot.barh()\n"
   ]
  },
  {
   "cell_type": "code",
   "execution_count": 15,
   "metadata": {},
   "outputs": [],
   "source": [
    "final = merged[merged['category_id'].isin(catIDS.index)]"
   ]
  },
  {
   "cell_type": "code",
   "execution_count": 18,
   "metadata": {},
   "outputs": [
    {
     "data": {
      "text/html": [
       "<div>\n",
       "<style scoped>\n",
       "    .dataframe tbody tr th:only-of-type {\n",
       "        vertical-align: middle;\n",
       "    }\n",
       "\n",
       "    .dataframe tbody tr th {\n",
       "        vertical-align: top;\n",
       "    }\n",
       "\n",
       "    .dataframe thead th {\n",
       "        text-align: right;\n",
       "    }\n",
       "</style>\n",
       "<table border=\"1\" class=\"dataframe\">\n",
       "  <thead>\n",
       "    <tr style=\"text-align: right;\">\n",
       "      <th></th>\n",
       "      <th>height</th>\n",
       "      <th>width</th>\n",
       "    </tr>\n",
       "  </thead>\n",
       "  <tbody>\n",
       "    <tr>\n",
       "      <th>min</th>\n",
       "      <td>1000</td>\n",
       "      <td>667</td>\n",
       "    </tr>\n",
       "    <tr>\n",
       "      <th>max</th>\n",
       "      <td>1000</td>\n",
       "      <td>713</td>\n",
       "    </tr>\n",
       "  </tbody>\n",
       "</table>\n",
       "</div>"
      ],
      "text/plain": [
       "     height  width\n",
       "min    1000    667\n",
       "max    1000    713"
      ]
     },
     "execution_count": 18,
     "metadata": {},
     "output_type": "execute_result"
    }
   ],
   "source": [
    "#get the dimensioons of images\n",
    "#after load, put all images into the max height, width 1000x1000\n",
    "final.agg({'height' : ['min', 'max'], 'width' : ['min', 'max']})"
   ]
  },
  {
   "cell_type": "code",
   "execution_count": 19,
   "metadata": {},
   "outputs": [],
   "source": [
    "#Load images\n",
    "imgDir=final['file_name'].str[7::]"
   ]
  },
  {
   "cell_type": "code",
   "execution_count": 20,
   "metadata": {},
   "outputs": [],
   "source": [
    "imgDir=np.array(imgDir)"
   ]
  },
  {
   "cell_type": "code",
   "execution_count": 21,
   "metadata": {},
   "outputs": [],
   "source": [
    "#h,w=1000\n",
    "path='/Users/mattvalko/Documents/PHD/examdata/'\n",
    "img=imgDir[0]\n",
    "img_arr = cv2.imread(os.path.join(path, img))\n",
    "resized_arr = cv2.resize(img_arr, (1000, 1000))\n"
   ]
  },
  {
   "cell_type": "code",
   "execution_count": 22,
   "metadata": {},
   "outputs": [
    {
     "data": {
      "image/png": "[encoded data removed]",
      "text/plain": [
       "<Figure size 432x288 with 1 Axes>"
      ]
     },
     "metadata": {
      "needs_background": "light"
     },
     "output_type": "display_data"
    }
   ],
   "source": [
    "#Plot a plant\n",
    "rgb_img = cv2.cvtColor(resized_arr, cv2.COLOR_BGR2RGB)\n",
    "plt.imshow(rgb_img)\n",
    "plt.show()"
   ]
  },
  {
   "cell_type": "code",
   "execution_count": 23,
   "metadata": {},
   "outputs": [],
   "source": [
    "label=np.array(final['category_id'])"
   ]
  },
  {
   "cell_type": "code",
   "execution_count": 24,
   "metadata": {},
   "outputs": [],
   "source": [
    "u, y_train = np.unique(label, return_inverse=True)"
   ]
  },
  {
   "cell_type": "code",
   "execution_count": 25,
   "metadata": {},
   "outputs": [],
   "source": [
    "classNum=len(catIDS)\n",
    "\n",
    "y_train = keras.utils.to_categorical(y_train, classNum)"
   ]
  },
  {
   "cell_type": "code",
   "execution_count": 26,
   "metadata": {},
   "outputs": [
    {
     "data": {
      "text/plain": [
       "array([[0., 1., 0., ..., 0., 0., 0.],\n",
       "       [0., 0., 1., ..., 0., 0., 0.],\n",
       "       [0., 0., 0., ..., 0., 1., 0.],\n",
       "       ...,\n",
       "       [0., 0., 0., ..., 0., 1., 0.],\n",
       "       [0., 1., 0., ..., 0., 0., 0.],\n",
       "       [0., 1., 0., ..., 0., 0., 0.]], dtype=float32)"
      ]
     },
     "execution_count": 26,
     "metadata": {},
     "output_type": "execute_result"
    }
   ],
   "source": [
    "y_train"
   ]
  },
  {
   "cell_type": "code",
   "execution_count": 27,
   "metadata": {},
   "outputs": [],
   "source": [
    "#Load all images\n",
    "data = [] \n",
    "for i in range(0,len(imgDir)):\n",
    "    img_arr = cv2.imread(os.path.join(path, imgDir[i]))\n",
    "    resized_arr = cv2.resize(img_arr, (224, 224))\n",
    "    data.append(resized_arr)"
   ]
  },
  {
   "cell_type": "code",
   "execution_count": 28,
   "metadata": {},
   "outputs": [],
   "source": [
    "#scale everything to by 255\n",
    "\n",
    "x_feat=np.array(data)"
   ]
  },
  {
   "cell_type": "code",
   "execution_count": 29,
   "metadata": {},
   "outputs": [
    {
     "data": {
      "text/plain": [
       "array([[[[0.        ],\n",
       "         [0.        ],\n",
       "         [0.        ],\n",
       "         ...,\n",
       "         [0.        ],\n",
       "         [0.        ],\n",
       "         [0.        ]],\n",
       "\n",
       "        [[0.        ],\n",
       "         [0.        ],\n",
       "         [0.        ],\n",
       "         ...,\n",
       "         [0.        ],\n",
       "         [0.        ],\n",
       "         [0.        ]],\n",
       "\n",
       "        [[0.        ],\n",
       "         [0.        ],\n",
       "         [0.        ],\n",
       "         ...,\n",
       "         [0.        ],\n",
       "         [0.        ],\n",
       "         [0.        ]],\n",
       "\n",
       "        ...,\n",
       "\n",
       "        [[0.89411765],\n",
       "         [0.9254902 ],\n",
       "         [0.45882353],\n",
       "         ...,\n",
       "         [0.        ],\n",
       "         [0.        ],\n",
       "         [0.        ]],\n",
       "\n",
       "        [[0.        ],\n",
       "         [0.        ],\n",
       "         [0.        ],\n",
       "         ...,\n",
       "         [0.37647059],\n",
       "         [0.90980392],\n",
       "         [0.96470588]],\n",
       "\n",
       "        [[0.98039216],\n",
       "         [0.89411765],\n",
       "         [0.93333333],\n",
       "         ...,\n",
       "         [0.96862745],\n",
       "         [0.95294118],\n",
       "         [0.93333333]]],\n",
       "\n",
       "\n",
       "       [[[0.93333333],\n",
       "         [0.89803922],\n",
       "         [0.88235294],\n",
       "         ...,\n",
       "         [0.        ],\n",
       "         [0.        ],\n",
       "         [0.        ]],\n",
       "\n",
       "        [[0.        ],\n",
       "         [0.        ],\n",
       "         [0.        ],\n",
       "         ...,\n",
       "         [0.89803922],\n",
       "         [0.83137255],\n",
       "         [0.88627451]],\n",
       "\n",
       "        [[0.92156863],\n",
       "         [0.55294118],\n",
       "         [0.58823529],\n",
       "         ...,\n",
       "         [0.83529412],\n",
       "         [0.84313725],\n",
       "         [0.94901961]],\n",
       "\n",
       "        ...,\n",
       "\n",
       "        [[0.94901961],\n",
       "         [0.94117647],\n",
       "         [0.94901961],\n",
       "         ...,\n",
       "         [0.96078431],\n",
       "         [0.96078431],\n",
       "         [0.95294118]],\n",
       "\n",
       "        [[0.96078431],\n",
       "         [0.96078431],\n",
       "         [0.95294118],\n",
       "         ...,\n",
       "         [0.        ],\n",
       "         [0.        ],\n",
       "         [0.        ]],\n",
       "\n",
       "        [[0.        ],\n",
       "         [0.        ],\n",
       "         [0.        ],\n",
       "         ...,\n",
       "         [0.94901961],\n",
       "         [0.94117647],\n",
       "         [0.94901961]]],\n",
       "\n",
       "\n",
       "       [[[0.94901961],\n",
       "         [0.94117647],\n",
       "         [0.94901961],\n",
       "         ...,\n",
       "         [0.96078431],\n",
       "         [0.96078431],\n",
       "         [0.95294118]],\n",
       "\n",
       "        [[0.96078431],\n",
       "         [0.96078431],\n",
       "         [0.95294118],\n",
       "         ...,\n",
       "         [0.        ],\n",
       "         [0.        ],\n",
       "         [0.        ]],\n",
       "\n",
       "        [[0.        ],\n",
       "         [0.        ],\n",
       "         [0.        ],\n",
       "         ...,\n",
       "         [0.94901961],\n",
       "         [0.94117647],\n",
       "         [0.94901961]],\n",
       "\n",
       "        ...,\n",
       "\n",
       "        [[0.        ],\n",
       "         [0.        ],\n",
       "         [0.        ],\n",
       "         ...,\n",
       "         [0.        ],\n",
       "         [0.        ],\n",
       "         [0.        ]],\n",
       "\n",
       "        [[0.        ],\n",
       "         [0.        ],\n",
       "         [0.        ],\n",
       "         ...,\n",
       "         [0.        ],\n",
       "         [0.        ],\n",
       "         [0.        ]],\n",
       "\n",
       "        [[0.        ],\n",
       "         [0.        ],\n",
       "         [0.        ],\n",
       "         ...,\n",
       "         [0.        ],\n",
       "         [0.        ],\n",
       "         [0.        ]]],\n",
       "\n",
       "\n",
       "       ...,\n",
       "\n",
       "\n",
       "       [[[0.02352941],\n",
       "         [0.01960784],\n",
       "         [0.02745098],\n",
       "         ...,\n",
       "         [0.06666667],\n",
       "         [0.05098039],\n",
       "         [0.03921569]],\n",
       "\n",
       "        [[0.0627451 ],\n",
       "         [0.04705882],\n",
       "         [0.04705882],\n",
       "         ...,\n",
       "         [0.03921569],\n",
       "         [0.04705882],\n",
       "         [0.03921569]],\n",
       "\n",
       "        [[0.02745098],\n",
       "         [0.03529412],\n",
       "         [0.03921569],\n",
       "         ...,\n",
       "         [0.04705882],\n",
       "         [0.03921569],\n",
       "         [0.03921569]],\n",
       "\n",
       "        ...,\n",
       "\n",
       "        [[0.95686275],\n",
       "         [0.94509804],\n",
       "         [0.91764706],\n",
       "         ...,\n",
       "         [0.04313725],\n",
       "         [0.03529412],\n",
       "         [0.03529412]],\n",
       "\n",
       "        [[0.04313725],\n",
       "         [0.03921569],\n",
       "         [0.04705882],\n",
       "         ...,\n",
       "         [0.93333333],\n",
       "         [0.90980392],\n",
       "         [0.94509804]],\n",
       "\n",
       "        [[0.93333333],\n",
       "         [0.89803922],\n",
       "         [0.94117647],\n",
       "         ...,\n",
       "         [0.95686275],\n",
       "         [0.94509804],\n",
       "         [0.92156863]]],\n",
       "\n",
       "\n",
       "       [[[0.95686275],\n",
       "         [0.94509804],\n",
       "         [0.91764706],\n",
       "         ...,\n",
       "         [0.03137255],\n",
       "         [0.02352941],\n",
       "         [0.02352941]],\n",
       "\n",
       "        [[0.04705882],\n",
       "         [0.04313725],\n",
       "         [0.05098039],\n",
       "         ...,\n",
       "         [0.93333333],\n",
       "         [0.90980392],\n",
       "         [0.94509804]],\n",
       "\n",
       "        [[0.93333333],\n",
       "         [0.90588235],\n",
       "         [0.94117647],\n",
       "         ...,\n",
       "         [0.95686275],\n",
       "         [0.94509804],\n",
       "         [0.92156863]],\n",
       "\n",
       "        ...,\n",
       "\n",
       "        [[0.68235294],\n",
       "         [0.51372549],\n",
       "         [0.59607843],\n",
       "         ...,\n",
       "         [0.96470588],\n",
       "         [0.94509804],\n",
       "         [0.94117647]],\n",
       "\n",
       "        [[0.96470588],\n",
       "         [0.94509804],\n",
       "         [0.94117647],\n",
       "         ...,\n",
       "         [0.03137255],\n",
       "         [0.02352941],\n",
       "         [0.02352941]],\n",
       "\n",
       "        [[0.02745098],\n",
       "         [0.02352941],\n",
       "         [0.03137255],\n",
       "         ...,\n",
       "         [0.5372549 ],\n",
       "         [0.30980392],\n",
       "         [0.39607843]]],\n",
       "\n",
       "\n",
       "       [[[0.46666667],\n",
       "         [0.21568627],\n",
       "         [0.30980392],\n",
       "         ...,\n",
       "         [0.96470588],\n",
       "         [0.94509804],\n",
       "         [0.94117647]],\n",
       "\n",
       "        [[0.96470588],\n",
       "         [0.94509804],\n",
       "         [0.94117647],\n",
       "         ...,\n",
       "         [0.04705882],\n",
       "         [0.03921569],\n",
       "         [0.03921569]],\n",
       "\n",
       "        [[0.03529412],\n",
       "         [0.03529412],\n",
       "         [0.04313725],\n",
       "         ...,\n",
       "         [0.37647059],\n",
       "         [0.20784314],\n",
       "         [0.26666667]],\n",
       "\n",
       "        ...,\n",
       "\n",
       "        [[0.07058824],\n",
       "         [0.06666667],\n",
       "         [0.0745098 ],\n",
       "         ...,\n",
       "         [0.04313725],\n",
       "         [0.04313725],\n",
       "         [0.03529412]],\n",
       "\n",
       "        [[0.03529412],\n",
       "         [0.05098039],\n",
       "         [0.04313725],\n",
       "         ...,\n",
       "         [0.04705882],\n",
       "         [0.04705882],\n",
       "         [0.05882353]],\n",
       "\n",
       "        [[0.05098039],\n",
       "         [0.05098039],\n",
       "         [0.05098039],\n",
       "         ...,\n",
       "         [0.08627451],\n",
       "         [0.07843137],\n",
       "         [0.07843137]]]])"
      ]
     },
     "execution_count": 29,
     "metadata": {},
     "output_type": "execute_result"
    }
   ],
   "source": [
    "\n",
    "\n",
    "\n",
    "# Normalize the data\n",
    "x_train = x_feat / 255\n",
    "\n",
    "\n",
    "x_train.reshape(-1,224,224, 1)\n",
    "\n"
   ]
  },
  {
   "cell_type": "code",
   "execution_count": 30,
   "metadata": {},
   "outputs": [],
   "source": [
    "from sklearn.model_selection import train_test_split\n",
    "xtrain, xtest, ytrain, ytest = train_test_split(x_train,y_train,test_size=0.2,random_state=5)\n"
   ]
  },
  {
   "cell_type": "code",
   "execution_count": 31,
   "metadata": {
    "scrolled": true
   },
   "outputs": [
    {
     "name": "stdout",
     "output_type": "stream",
     "text": [
      "8\n",
      "Model: \"sequential_1\"\n",
      "_________________________________________________________________\n",
      "Layer (type)                 Output Shape              Param #   \n",
      "=================================================================\n",
      "conv2d_1 (Conv2D)            (None, 224, 224, 32)      896       \n",
      "_________________________________________________________________\n",
      "max_pooling2d_1 (MaxPooling2 (None, 112, 112, 32)      0         \n",
      "_________________________________________________________________\n",
      "conv2d_2 (Conv2D)            (None, 112, 112, 32)      9248      \n",
      "_________________________________________________________________\n",
      "max_pooling2d_2 (MaxPooling2 (None, 56, 56, 32)        0         \n",
      "_________________________________________________________________\n",
      "conv2d_3 (Conv2D)            (None, 56, 56, 64)        18496     \n",
      "_________________________________________________________________\n",
      "max_pooling2d_3 (MaxPooling2 (None, 28, 28, 64)        0         \n",
      "_________________________________________________________________\n",
      "dropout_1 (Dropout)          (None, 28, 28, 64)        0         \n",
      "_________________________________________________________________\n",
      "flatten_1 (Flatten)          (None, 50176)             0         \n",
      "_________________________________________________________________\n",
      "dense_1 (Dense)              (None, 128)               6422656   \n",
      "_________________________________________________________________\n",
      "dense_2 (Dense)              (None, 8)                 1032      \n",
      "=================================================================\n",
      "Total params: 6,452,328\n",
      "Trainable params: 6,452,328\n",
      "Non-trainable params: 0\n",
      "_________________________________________________________________\n"
     ]
    }
   ],
   "source": [
    "print(classNum)\n",
    "#https://www.analyticsvidhya.com/blog/2020/10/create-image-classification-model-python-keras/\n",
    "model = Sequential()\n",
    "model.add(Conv2D(32,3,padding=\"same\", activation=\"relu\", input_shape=(224,224,3)))\n",
    "model.add(MaxPool2D())\n",
    "\n",
    "model.add(Conv2D(32, 3, padding=\"same\", activation=\"relu\"))\n",
    "model.add(MaxPool2D())\n",
    "\n",
    "model.add(Conv2D(64, 3, padding=\"same\", activation=\"relu\"))\n",
    "model.add(MaxPool2D())\n",
    "model.add(Dropout(0.4))\n",
    "\n",
    "model.add(Flatten())\n",
    "model.add(Dense(128,activation=\"relu\"))\n",
    "model.add(Dense(classNum, activation=\"softmax\"))\n",
    "\n",
    "model.summary()"
   ]
  },
  {
   "cell_type": "code",
   "execution_count": 32,
   "metadata": {},
   "outputs": [],
   "source": [
    "model.compile(loss='categorical_crossentropy',\n",
    " optimizer=RMSprop(),\n",
    " metrics=['accuracy'])"
   ]
  },
  {
   "cell_type": "code",
   "execution_count": 33,
   "metadata": {},
   "outputs": [
    {
     "name": "stdout",
     "output_type": "stream",
     "text": [
      "Epoch 1/5\n",
      "4332/4332 [==============================] - 104s 24ms/step - loss: 0.9279 - accuracy: 0.7004\n",
      "Epoch 2/5\n",
      "4332/4332 [==============================] - 78s 18ms/step - loss: 0.4079 - accuracy: 0.8456\n",
      "Epoch 3/5\n",
      "4332/4332 [==============================] - 78s 18ms/step - loss: 0.3021 - accuracy: 0.8827\n",
      "Epoch 4/5\n",
      "4332/4332 [==============================] - 78s 18ms/step - loss: 0.2342 - accuracy: 0.9090\n",
      "Epoch 5/5\n",
      "4332/4332 [==============================] - 77s 18ms/step - loss: 0.1749 - accuracy: 0.9351\n"
     ]
    }
   ],
   "source": [
    "\n",
    "history = model.fit(xtrain,ytrain,epochs = 5 )\n"
   ]
  },
  {
   "cell_type": "code",
   "execution_count": 73,
   "metadata": {},
   "outputs": [
    {
     "data": {
      "text/plain": [
       "415"
      ]
     },
     "execution_count": 73,
     "metadata": {},
     "output_type": "execute_result"
    }
   ],
   "source": [
    "77+78+78+78+104"
   ]
  },
  {
   "cell_type": "code",
   "execution_count": 35,
   "metadata": {},
   "outputs": [
    {
     "data": {
      "image/png": "[encoded data removed]",
      "text/plain": [
       "<Figure size 1080x1080 with 2 Axes>"
      ]
     },
     "metadata": {
      "needs_background": "light"
     },
     "output_type": "display_data"
    }
   ],
   "source": [
    "acc = history.history['accuracy']\n",
    "#val_acc = history.history['val_accuracy']\n",
    "loss = history.history['loss']\n",
    "\n",
    "epochs_range = range(5)\n",
    "\n",
    "plt.figure(figsize=(15, 15))\n",
    "plt.subplot(2, 2, 1)\n",
    "plt.plot(epochs_range, acc, label='Training Accuracy')\n",
    "plt.legend(loc='lower right')\n",
    "plt.title('Training and Validation Accuracy')\n",
    "\n",
    "plt.subplot(2, 2, 2)\n",
    "plt.plot(epochs_range, loss, label='Training Loss')\n",
    "plt.legend(loc='upper right')\n",
    "plt.title('Training and Validation Loss')\n",
    "plt.show()"
   ]
  },
  {
   "cell_type": "code",
   "execution_count": 36,
   "metadata": {},
   "outputs": [],
   "source": [
    "y_pred=model.predict_classes(xtest)\n",
    "y_true=np.argmax(ytest,axis=1)\n",
    "cm = metrics.confusion_matrix( y_true,y_pred)\n"
   ]
  },
  {
   "cell_type": "code",
   "execution_count": 37,
   "metadata": {},
   "outputs": [
    {
     "data": {
      "image/png": "[encoded data removed]",
      "text/plain": [
       "<Figure size 432x288 with 2 Axes>"
      ]
     },
     "metadata": {
      "needs_background": "light"
     },
     "output_type": "display_data"
    }
   ],
   "source": [
    "data=confusion_matrix(y_true, y_pred)\n",
    "hm = sns.heatmap(data = data, annot=True) "
   ]
  },
  {
   "cell_type": "code",
   "execution_count": 38,
   "metadata": {},
   "outputs": [
    {
     "name": "stdout",
     "output_type": "stream",
     "text": [
      "Confusion matrix for label 157:\n",
      "              precision    recall  f1-score   support\n",
      "\n",
      "       False       0.99      1.00      0.99       957\n",
      "        True       0.97      0.89      0.93       126\n",
      "\n",
      "    accuracy                           0.98      1083\n",
      "   macro avg       0.98      0.94      0.96      1083\n",
      "weighted avg       0.98      0.98      0.98      1083\n",
      "\n",
      "Confusion matrix for label 163:\n",
      "              precision    recall  f1-score   support\n",
      "\n",
      "       False       1.00      0.99      0.99       847\n",
      "        True       0.96      0.98      0.97       236\n",
      "\n",
      "    accuracy                           0.99      1083\n",
      "   macro avg       0.98      0.99      0.98      1083\n",
      "weighted avg       0.99      0.99      0.99      1083\n",
      "\n",
      "Confusion matrix for label 176:\n",
      "              precision    recall  f1-score   support\n",
      "\n",
      "       False       0.99      1.00      0.99       990\n",
      "        True       0.98      0.89      0.93        93\n",
      "\n",
      "    accuracy                           0.99      1083\n",
      "   macro avg       0.98      0.95      0.96      1083\n",
      "weighted avg       0.99      0.99      0.99      1083\n",
      "\n",
      "Confusion matrix for label 297:\n",
      "              precision    recall  f1-score   support\n",
      "\n",
      "       False       1.00      0.99      1.00       973\n",
      "        True       0.94      0.99      0.96       110\n",
      "\n",
      "    accuracy                           0.99      1083\n",
      "   macro avg       0.97      0.99      0.98      1083\n",
      "weighted avg       0.99      0.99      0.99      1083\n",
      "\n",
      "Confusion matrix for label 463:\n",
      "              precision    recall  f1-score   support\n",
      "\n",
      "       False       1.00      1.00      1.00       975\n",
      "        True       0.97      0.99      0.98       108\n",
      "\n",
      "    accuracy                           1.00      1083\n",
      "   macro avg       0.99      0.99      0.99      1083\n",
      "weighted avg       1.00      1.00      1.00      1083\n",
      "\n",
      "Confusion matrix for label 743:\n",
      "              precision    recall  f1-score   support\n",
      "\n",
      "       False       0.99      0.97      0.98       967\n",
      "        True       0.77      0.90      0.83       116\n",
      "\n",
      "    accuracy                           0.96      1083\n",
      "   macro avg       0.88      0.93      0.90      1083\n",
      "weighted avg       0.96      0.96      0.96      1083\n",
      "\n",
      "Confusion matrix for label 747:\n",
      "              precision    recall  f1-score   support\n",
      "\n",
      "       False       0.97      0.99      0.98       916\n",
      "        True       0.92      0.81      0.86       167\n",
      "\n",
      "    accuracy                           0.96      1083\n",
      "   macro avg       0.94      0.90      0.92      1083\n",
      "weighted avg       0.96      0.96      0.96      1083\n",
      "\n",
      "Confusion matrix for label 755:\n",
      "              precision    recall  f1-score   support\n",
      "\n",
      "       False       1.00      0.99      0.99       956\n",
      "        True       0.94      0.98      0.96       127\n",
      "\n",
      "    accuracy                           0.99      1083\n",
      "   macro avg       0.97      0.99      0.98      1083\n",
      "weighted avg       0.99      0.99      0.99      1083\n",
      "\n"
     ]
    }
   ],
   "source": [
    "conf_mat_dict={}\n",
    "labels = u\n",
    "#for label_col in range(len(labels)):\n",
    "#    conf_mat_dict[labels[label_col]] = confusion_matrix(y_pred=y_pred==label_col, y_true=y_true==label_col)\n",
    "\n",
    "for label_col in range(len(labels)):\n",
    "    conf_mat_dict[labels[label_col]] =  skm.classification_report(y_pred=y_pred==label_col, y_true=y_true==label_col)\n",
    "\n",
    "\n",
    "    \n",
    "    \n",
    "for label, matrix in conf_mat_dict.items():\n",
    "    print(\"Confusion matrix for label {}:\".format(label))\n",
    "    print(matrix)"
   ]
  },
  {
   "cell_type": "code",
   "execution_count": 39,
   "metadata": {},
   "outputs": [],
   "source": [
    "#VGG 19 used https://towardsdatascience.com/step-by-step-vgg16-implementation-in-keras-for-beginners-a833c686ae6c\n",
    "\n",
    "model = Sequential()\n",
    "model.add(Conv2D(input_shape=(224,224,3),filters=64,kernel_size=(3,3),padding=\"same\", activation=\"relu\"))\n",
    "model.add(Conv2D(filters=64,kernel_size=(3,3),padding=\"same\", activation=\"relu\"))\n",
    "model.add(MaxPool2D(pool_size=(2,2),strides=(2,2)))\n",
    "model.add(Conv2D(filters=128, kernel_size=(3,3), padding=\"same\", activation=\"relu\"))\n",
    "model.add(Conv2D(filters=128, kernel_size=(3,3), padding=\"same\", activation=\"relu\"))\n",
    "model.add(MaxPool2D(pool_size=(2,2),strides=(2,2)))\n",
    "model.add(Conv2D(filters=256, kernel_size=(3,3), padding=\"same\", activation=\"relu\"))\n",
    "model.add(Conv2D(filters=256, kernel_size=(3,3), padding=\"same\", activation=\"relu\"))\n",
    "model.add(Conv2D(filters=256, kernel_size=(3,3), padding=\"same\", activation=\"relu\"))\n",
    "model.add(MaxPool2D(pool_size=(2,2),strides=(2,2)))\n",
    "model.add(Conv2D(filters=512, kernel_size=(3,3), padding=\"same\", activation=\"relu\"))\n",
    "model.add(Conv2D(filters=512, kernel_size=(3,3), padding=\"same\", activation=\"relu\"))\n",
    "model.add(Conv2D(filters=512, kernel_size=(3,3), padding=\"same\", activation=\"relu\"))\n",
    "model.add(MaxPool2D(pool_size=(2,2),strides=(2,2)))\n",
    "model.add(Conv2D(filters=512, kernel_size=(3,3), padding=\"same\", activation=\"relu\"))\n",
    "model.add(Conv2D(filters=512, kernel_size=(3,3), padding=\"same\", activation=\"relu\"))\n",
    "model.add(Conv2D(filters=512, kernel_size=(3,3), padding=\"same\", activation=\"relu\"))\n",
    "model.add(MaxPool2D(pool_size=(2,2),strides=(2,2)))\n",
    "model.add(Flatten())\n",
    "model.add(Dense(units=4096,activation=\"relu\"))\n",
    "model.add(Dense(units=4096,activation=\"relu\"))\n",
    "model.add(Dense(units=classNum, activation=\"softmax\"))"
   ]
  },
  {
   "cell_type": "code",
   "execution_count": 40,
   "metadata": {},
   "outputs": [
    {
     "name": "stdout",
     "output_type": "stream",
     "text": [
      "Model: \"sequential_2\"\n",
      "_________________________________________________________________\n",
      "Layer (type)                 Output Shape              Param #   \n",
      "=================================================================\n",
      "conv2d_4 (Conv2D)            (None, 224, 224, 64)      1792      \n",
      "_________________________________________________________________\n",
      "conv2d_5 (Conv2D)            (None, 224, 224, 64)      36928     \n",
      "_________________________________________________________________\n",
      "max_pooling2d_4 (MaxPooling2 (None, 112, 112, 64)      0         \n",
      "_________________________________________________________________\n",
      "conv2d_6 (Conv2D)            (None, 112, 112, 128)     73856     \n",
      "_________________________________________________________________\n",
      "conv2d_7 (Conv2D)            (None, 112, 112, 128)     147584    \n",
      "_________________________________________________________________\n",
      "max_pooling2d_5 (MaxPooling2 (None, 56, 56, 128)       0         \n",
      "_________________________________________________________________\n",
      "conv2d_8 (Conv2D)            (None, 56, 56, 256)       295168    \n",
      "_________________________________________________________________\n",
      "conv2d_9 (Conv2D)            (None, 56, 56, 256)       590080    \n",
      "_________________________________________________________________\n",
      "conv2d_10 (Conv2D)           (None, 56, 56, 256)       590080    \n",
      "_________________________________________________________________\n",
      "max_pooling2d_6 (MaxPooling2 (None, 28, 28, 256)       0         \n",
      "_________________________________________________________________\n",
      "conv2d_11 (Conv2D)           (None, 28, 28, 512)       1180160   \n",
      "_________________________________________________________________\n",
      "conv2d_12 (Conv2D)           (None, 28, 28, 512)       2359808   \n",
      "_________________________________________________________________\n",
      "conv2d_13 (Conv2D)           (None, 28, 28, 512)       2359808   \n",
      "_________________________________________________________________\n",
      "max_pooling2d_7 (MaxPooling2 (None, 14, 14, 512)       0         \n",
      "_________________________________________________________________\n",
      "conv2d_14 (Conv2D)           (None, 14, 14, 512)       2359808   \n",
      "_________________________________________________________________\n",
      "conv2d_15 (Conv2D)           (None, 14, 14, 512)       2359808   \n",
      "_________________________________________________________________\n",
      "conv2d_16 (Conv2D)           (None, 14, 14, 512)       2359808   \n",
      "_________________________________________________________________\n",
      "max_pooling2d_8 (MaxPooling2 (None, 7, 7, 512)         0         \n",
      "_________________________________________________________________\n",
      "flatten_2 (Flatten)          (None, 25088)             0         \n",
      "_________________________________________________________________\n",
      "dense_3 (Dense)              (None, 4096)              102764544 \n",
      "_________________________________________________________________\n",
      "dense_4 (Dense)              (None, 4096)              16781312  \n",
      "_________________________________________________________________\n",
      "dense_5 (Dense)              (None, 8)                 32776     \n",
      "=================================================================\n",
      "Total params: 134,293,320\n",
      "Trainable params: 134,293,320\n",
      "Non-trainable params: 0\n",
      "_________________________________________________________________\n"
     ]
    }
   ],
   "source": [
    "model.summary()"
   ]
  },
  {
   "cell_type": "code",
   "execution_count": 50,
   "metadata": {},
   "outputs": [],
   "source": [
    "from keras.optimizers import Adam\n",
    "opt = Adam(lr=0.001)\n",
    "model.compile(optimizer=opt, loss=keras.losses.categorical_crossentropy, metrics=['accuracy'])"
   ]
  },
  {
   "cell_type": "code",
   "execution_count": 52,
   "metadata": {},
   "outputs": [
    {
     "name": "stdout",
     "output_type": "stream",
     "text": [
      "Train on 4332 samples, validate on 1083 samples\n",
      "Epoch 1/5\n",
      "4332/4332 [==============================] - 13269s 3s/step - loss: 2.0377 - accuracy: 0.2214 - val_loss: 2.0390 - val_accuracy: 0.2179\n",
      "Epoch 2/5\n",
      "4332/4332 [==============================] - 11264s 3s/step - loss: 2.0384 - accuracy: 0.2214 - val_loss: 2.0385 - val_accuracy: 0.2179\n",
      "Epoch 3/5\n",
      "4332/4332 [==============================] - 6424s 1s/step - loss: 2.0377 - accuracy: 0.2214 - val_loss: 2.0398 - val_accuracy: 0.2179\n",
      "Epoch 4/5\n",
      "4332/4332 [==============================] - 3457s 798ms/step - loss: 2.0384 - accuracy: 0.2214 - val_loss: 2.0380 - val_accuracy: 0.2179\n",
      "Epoch 5/5\n",
      "4332/4332 [==============================] - 3388s 782ms/step - loss: 2.0367 - accuracy: 0.2214 - val_loss: 2.0383 - val_accuracy: 0.2179\n"
     ]
    }
   ],
   "source": [
    "history = model.fit(xtrain, ytrain,\n",
    "epochs=5,\n",
    "verbose=1\n",
    ",validation_data=(xtest, ytest))\n"
   ]
  },
  {
   "cell_type": "code",
   "execution_count": 74,
   "metadata": {},
   "outputs": [
    {
     "data": {
      "text/plain": [
       "37802"
      ]
     },
     "execution_count": 74,
     "metadata": {},
     "output_type": "execute_result"
    }
   ],
   "source": [
    "13269+11264+6424+3457+3388"
   ]
  },
  {
   "cell_type": "code",
   "execution_count": null,
   "metadata": {},
   "outputs": [],
   "source": [
    "acc = history.history['accuracy']\n",
    "#val_acc = history.history['val_accuracy']\n",
    "loss = history.history['loss']\n",
    "\n",
    "epochs_range = range(5)\n",
    "\n",
    "plt.figure(figsize=(15, 15))\n",
    "plt.subplot(2, 2, 1)\n",
    "plt.plot(epochs_range, acc, label='Training Accuracy')\n",
    "plt.legend(loc='lower right')\n",
    "plt.title('Training and Validation Accuracy')\n",
    "\n",
    "plt.subplot(2, 2, 2)\n",
    "plt.plot(epochs_range, loss, label='Training Loss')\n",
    "plt.legend(loc='upper right')\n",
    "plt.title('Training and Validation Loss')\n",
    "plt.show()"
   ]
  },
  {
   "cell_type": "code",
   "execution_count": 53,
   "metadata": {},
   "outputs": [],
   "source": [
    "y_pred=model.predict_classes(xtest)\n",
    "y_true=np.argmax(ytest,axis=1)\n"
   ]
  },
  {
   "cell_type": "code",
   "execution_count": 54,
   "metadata": {},
   "outputs": [
    {
     "data": {
      "image/png": "[encoded data removed]",
      "text/plain": [
       "<Figure size 432x288 with 2 Axes>"
      ]
     },
     "metadata": {
      "needs_background": "light"
     },
     "output_type": "display_data"
    }
   ],
   "source": [
    "data=confusion_matrix(y_true, y_pred)\n",
    "hm = sns.heatmap(data = data, annot=True) "
   ]
  },
  {
   "cell_type": "code",
   "execution_count": 56,
   "metadata": {},
   "outputs": [
    {
     "name": "stdout",
     "output_type": "stream",
     "text": [
      "Confusion matrix for label 157:\n",
      "              precision    recall  f1-score   support\n",
      "\n",
      "       False       0.88      1.00      0.94       957\n",
      "        True       0.00      0.00      0.00       126\n",
      "\n",
      "    accuracy                           0.88      1083\n",
      "   macro avg       0.44      0.50      0.47      1083\n",
      "weighted avg       0.78      0.88      0.83      1083\n",
      "\n",
      "Confusion matrix for label 163:\n",
      "              precision    recall  f1-score   support\n",
      "\n",
      "       False       0.00      0.00      0.00       847\n",
      "        True       0.22      1.00      0.36       236\n",
      "\n",
      "    accuracy                           0.22      1083\n",
      "   macro avg       0.11      0.50      0.18      1083\n",
      "weighted avg       0.05      0.22      0.08      1083\n",
      "\n",
      "Confusion matrix for label 176:\n",
      "              precision    recall  f1-score   support\n",
      "\n",
      "       False       0.91      1.00      0.96       990\n",
      "        True       0.00      0.00      0.00        93\n",
      "\n",
      "    accuracy                           0.91      1083\n",
      "   macro avg       0.46      0.50      0.48      1083\n",
      "weighted avg       0.84      0.91      0.87      1083\n",
      "\n",
      "Confusion matrix for label 297:\n",
      "              precision    recall  f1-score   support\n",
      "\n",
      "       False       0.90      1.00      0.95       973\n",
      "        True       0.00      0.00      0.00       110\n",
      "\n",
      "    accuracy                           0.90      1083\n",
      "   macro avg       0.45      0.50      0.47      1083\n",
      "weighted avg       0.81      0.90      0.85      1083\n",
      "\n",
      "Confusion matrix for label 463:\n",
      "              precision    recall  f1-score   support\n",
      "\n",
      "       False       0.90      1.00      0.95       975\n",
      "        True       0.00      0.00      0.00       108\n",
      "\n",
      "    accuracy                           0.90      1083\n",
      "   macro avg       0.45      0.50      0.47      1083\n",
      "weighted avg       0.81      0.90      0.85      1083\n",
      "\n",
      "Confusion matrix for label 743:\n",
      "              precision    recall  f1-score   support\n",
      "\n",
      "       False       0.89      1.00      0.94       967\n",
      "        True       0.00      0.00      0.00       116\n",
      "\n",
      "    accuracy                           0.89      1083\n",
      "   macro avg       0.45      0.50      0.47      1083\n",
      "weighted avg       0.80      0.89      0.84      1083\n",
      "\n",
      "Confusion matrix for label 747:\n",
      "              precision    recall  f1-score   support\n",
      "\n",
      "       False       0.85      1.00      0.92       916\n",
      "        True       0.00      0.00      0.00       167\n",
      "\n",
      "    accuracy                           0.85      1083\n",
      "   macro avg       0.42      0.50      0.46      1083\n",
      "weighted avg       0.72      0.85      0.78      1083\n",
      "\n",
      "Confusion matrix for label 755:\n",
      "              precision    recall  f1-score   support\n",
      "\n",
      "       False       0.88      1.00      0.94       956\n",
      "        True       0.00      0.00      0.00       127\n",
      "\n",
      "    accuracy                           0.88      1083\n",
      "   macro avg       0.44      0.50      0.47      1083\n",
      "weighted avg       0.78      0.88      0.83      1083\n",
      "\n"
     ]
    }
   ],
   "source": [
    "\n",
    "\n",
    "conf_mat_dict={}\n",
    "labels = u\n",
    "#for label_col in range(len(labels)):\n",
    "#    conf_mat_dict[labels[label_col]] = confusion_matrix(y_pred=y_pred==label_col, y_true=y_true==label_col)\n",
    "\n",
    "for label_col in range(len(labels)):\n",
    "    conf_mat_dict[labels[label_col]] =  skm.classification_report(y_pred=y_pred==label_col, y_true=y_true==label_col,zero_division=0)\n",
    "\n",
    "\n",
    "    \n",
    "    \n",
    "for label, matrix in conf_mat_dict.items():\n",
    "    print(\"Confusion matrix for label {}:\".format(label))\n",
    "    print(matrix)"
   ]
  },
  {
   "cell_type": "code",
   "execution_count": 57,
   "metadata": {},
   "outputs": [
    {
     "name": "stdout",
     "output_type": "stream",
     "text": [
      "Model: \"sequential_4\"\n",
      "_________________________________________________________________\n",
      "Layer (type)                 Output Shape              Param #   \n",
      "=================================================================\n",
      "conv2d_22 (Conv2D)           (None, 56, 56, 96)        34944     \n",
      "_________________________________________________________________\n",
      "batch_normalization_10 (Batc (None, 56, 56, 96)        384       \n",
      "_________________________________________________________________\n",
      "activation_10 (Activation)   (None, 56, 56, 96)        0         \n",
      "_________________________________________________________________\n",
      "max_pooling2d_12 (MaxPooling (None, 28, 28, 96)        0         \n",
      "_________________________________________________________________\n",
      "conv2d_23 (Conv2D)           (None, 28, 28, 256)       614656    \n",
      "_________________________________________________________________\n",
      "batch_normalization_11 (Batc (None, 28, 28, 256)       1024      \n",
      "_________________________________________________________________\n",
      "activation_11 (Activation)   (None, 28, 28, 256)       0         \n",
      "_________________________________________________________________\n",
      "max_pooling2d_13 (MaxPooling (None, 14, 14, 256)       0         \n",
      "_________________________________________________________________\n",
      "conv2d_24 (Conv2D)           (None, 14, 14, 384)       885120    \n",
      "_________________________________________________________________\n",
      "batch_normalization_12 (Batc (None, 14, 14, 384)       1536      \n",
      "_________________________________________________________________\n",
      "activation_12 (Activation)   (None, 14, 14, 384)       0         \n",
      "_________________________________________________________________\n",
      "conv2d_25 (Conv2D)           (None, 14, 14, 384)       1327488   \n",
      "_________________________________________________________________\n",
      "batch_normalization_13 (Batc (None, 14, 14, 384)       1536      \n",
      "_________________________________________________________________\n",
      "activation_13 (Activation)   (None, 14, 14, 384)       0         \n",
      "_________________________________________________________________\n",
      "conv2d_26 (Conv2D)           (None, 14, 14, 256)       884992    \n",
      "_________________________________________________________________\n",
      "batch_normalization_14 (Batc (None, 14, 14, 256)       1024      \n",
      "_________________________________________________________________\n",
      "activation_14 (Activation)   (None, 14, 14, 256)       0         \n",
      "_________________________________________________________________\n",
      "max_pooling2d_14 (MaxPooling (None, 7, 7, 256)         0         \n",
      "_________________________________________________________________\n",
      "flatten_4 (Flatten)          (None, 12544)             0         \n",
      "_________________________________________________________________\n",
      "dense_10 (Dense)             (None, 4096)              51384320  \n",
      "_________________________________________________________________\n",
      "batch_normalization_15 (Batc (None, 4096)              16384     \n",
      "_________________________________________________________________\n",
      "activation_15 (Activation)   (None, 4096)              0         \n",
      "_________________________________________________________________\n",
      "dropout_5 (Dropout)          (None, 4096)              0         \n",
      "_________________________________________________________________\n",
      "dense_11 (Dense)             (None, 4096)              16781312  \n",
      "_________________________________________________________________\n",
      "batch_normalization_16 (Batc (None, 4096)              16384     \n",
      "_________________________________________________________________\n",
      "activation_16 (Activation)   (None, 4096)              0         \n",
      "_________________________________________________________________\n",
      "dropout_6 (Dropout)          (None, 4096)              0         \n",
      "_________________________________________________________________\n",
      "dense_12 (Dense)             (None, 1000)              4097000   \n",
      "_________________________________________________________________\n",
      "batch_normalization_17 (Batc (None, 1000)              4000      \n",
      "_________________________________________________________________\n",
      "activation_17 (Activation)   (None, 1000)              0         \n",
      "_________________________________________________________________\n",
      "dropout_7 (Dropout)          (None, 1000)              0         \n",
      "_________________________________________________________________\n",
      "dense_13 (Dense)             (None, 8)                 8008      \n",
      "_________________________________________________________________\n",
      "batch_normalization_18 (Batc (None, 8)                 32        \n",
      "_________________________________________________________________\n",
      "activation_18 (Activation)   (None, 8)                 0         \n",
      "=================================================================\n",
      "Total params: 76,060,144\n",
      "Trainable params: 76,038,992\n",
      "Non-trainable params: 21,152\n",
      "_________________________________________________________________\n"
     ]
    }
   ],
   "source": [
    "#https://analyticsindiamag.com/hands-on-guide-to-implementing-alexnet-with-keras-for-multi-class-image-classification/\n",
    "\n",
    "np.random.seed(1000)\n",
    "\n",
    "#Instantiation\n",
    "AlexNet = Sequential()\n",
    "\n",
    "#1st Convolutional Layer\n",
    "AlexNet.add(Conv2D(filters=96, input_shape=(224,224,3), kernel_size=(11,11), strides=(4,4), padding='same'))\n",
    "AlexNet.add(BatchNormalization())\n",
    "AlexNet.add(Activation('relu'))\n",
    "AlexNet.add(MaxPooling2D(pool_size=(2,2), strides=(2,2), padding='same'))\n",
    "\n",
    "#2nd Convolutional Layer\n",
    "AlexNet.add(Conv2D(filters=256, kernel_size=(5, 5), strides=(1,1), padding='same'))\n",
    "AlexNet.add(BatchNormalization())\n",
    "AlexNet.add(Activation('relu'))\n",
    "AlexNet.add(MaxPooling2D(pool_size=(2,2), strides=(2,2), padding='same'))\n",
    "\n",
    "#3rd Convolutional Layer\n",
    "AlexNet.add(Conv2D(filters=384, kernel_size=(3,3), strides=(1,1), padding='same'))\n",
    "AlexNet.add(BatchNormalization())\n",
    "AlexNet.add(Activation('relu'))\n",
    "\n",
    "#4th Convolutional Layer\n",
    "AlexNet.add(Conv2D(filters=384, kernel_size=(3,3), strides=(1,1), padding='same'))\n",
    "AlexNet.add(BatchNormalization())\n",
    "AlexNet.add(Activation('relu'))\n",
    "\n",
    "#5th Convolutional Layer\n",
    "AlexNet.add(Conv2D(filters=256, kernel_size=(3,3), strides=(1,1), padding='same'))\n",
    "AlexNet.add(BatchNormalization())\n",
    "AlexNet.add(Activation('relu'))\n",
    "AlexNet.add(MaxPooling2D(pool_size=(2,2), strides=(2,2), padding='same'))\n",
    "\n",
    "#Passing it to a Fully Connected layer\n",
    "AlexNet.add(Flatten())\n",
    "# 1st Fully Connected Layer\n",
    "AlexNet.add(Dense(4096, input_shape=(32,32,3,)))\n",
    "AlexNet.add(BatchNormalization())\n",
    "AlexNet.add(Activation('relu'))\n",
    "# Add Dropout to prevent overfitting\n",
    "AlexNet.add(Dropout(0.4))\n",
    "\n",
    "#2nd Fully Connected Layer\n",
    "AlexNet.add(Dense(4096))\n",
    "AlexNet.add(BatchNormalization())\n",
    "AlexNet.add(Activation('relu'))\n",
    "#Add Dropout\n",
    "AlexNet.add(Dropout(0.4))\n",
    "\n",
    "#3rd Fully Connected Layer\n",
    "AlexNet.add(Dense(1000))\n",
    "AlexNet.add(BatchNormalization())\n",
    "AlexNet.add(Activation('relu'))\n",
    "#Add Dropout\n",
    "AlexNet.add(Dropout(0.4))\n",
    "\n",
    "#Output Layer\n",
    "AlexNet.add(Dense(classNum))\n",
    "AlexNet.add(BatchNormalization())\n",
    "AlexNet.add(Activation('softmax'))\n",
    "\n",
    "#Model Summary\n",
    "AlexNet.summary()"
   ]
  },
  {
   "cell_type": "code",
   "execution_count": 58,
   "metadata": {},
   "outputs": [],
   "source": [
    "opt = Adam(lr=0.001)\n",
    "AlexNet.compile(optimizer=opt, loss=keras.losses.categorical_crossentropy, metrics=['accuracy'])\n"
   ]
  },
  {
   "cell_type": "code",
   "execution_count": 59,
   "metadata": {},
   "outputs": [
    {
     "name": "stdout",
     "output_type": "stream",
     "text": [
      "Train on 4332 samples, validate on 1083 samples\n",
      "Epoch 1/5\n",
      "4332/4332 [==============================] - 651s 150ms/step - loss: 0.8272 - accuracy: 0.7830 - val_loss: 4.2707 - val_accuracy: 0.0997\n",
      "Epoch 2/5\n",
      "4332/4332 [==============================] - 648s 150ms/step - loss: 0.6147 - accuracy: 0.8599 - val_loss: 2.1598 - val_accuracy: 0.2715\n",
      "Epoch 3/5\n",
      "4332/4332 [==============================] - 585s 135ms/step - loss: 0.5315 - accuracy: 0.8783 - val_loss: 2.6495 - val_accuracy: 0.1699\n",
      "Epoch 4/5\n",
      "4332/4332 [==============================] - 744s 172ms/step - loss: 0.4655 - accuracy: 0.8940 - val_loss: 2.2054 - val_accuracy: 0.2539\n",
      "Epoch 5/5\n",
      "4332/4332 [==============================] - 570s 132ms/step - loss: 0.4250 - accuracy: 0.9024 - val_loss: 2.1096 - val_accuracy: 0.3213\n"
     ]
    }
   ],
   "source": [
    "Alexnethistory = AlexNet.fit(xtrain, ytrain,\n",
    "epochs=5,\n",
    "verbose=1,\n",
    "validation_data=(xtest, ytest))"
   ]
  },
  {
   "cell_type": "code",
   "execution_count": 75,
   "metadata": {},
   "outputs": [
    {
     "data": {
      "text/plain": [
       "3372"
      ]
     },
     "execution_count": 75,
     "metadata": {},
     "output_type": "execute_result"
    }
   ],
   "source": [
    "651+648+585+744+744"
   ]
  },
  {
   "cell_type": "code",
   "execution_count": 70,
   "metadata": {},
   "outputs": [],
   "source": [
    "y_pred=AlexNet.predict_classes(xtest)\n",
    "y_true=np.argmax(ytest,axis=1)"
   ]
  },
  {
   "cell_type": "code",
   "execution_count": 61,
   "metadata": {},
   "outputs": [
    {
     "data": {
      "image/png": "[encoded data removed]",
      "text/plain": [
       "<Figure size 432x288 with 2 Axes>"
      ]
     },
     "metadata": {
      "needs_background": "light"
     },
     "output_type": "display_data"
    }
   ],
   "source": [
    "\n",
    "data=confusion_matrix(y_true, y_pred)\n",
    "hm = sns.heatmap(data = data, annot=True) "
   ]
  },
  {
   "cell_type": "code",
   "execution_count": 72,
   "metadata": {},
   "outputs": [
    {
     "name": "stdout",
     "output_type": "stream",
     "text": [
      "Confusion matrix for label 157:\n",
      "              precision    recall  f1-score   support\n",
      "\n",
      "       False       0.92      0.98      0.95       957\n",
      "        True       0.68      0.34      0.46       126\n",
      "\n",
      "    accuracy                           0.90      1083\n",
      "   macro avg       0.80      0.66      0.70      1083\n",
      "weighted avg       0.89      0.90      0.89      1083\n",
      "\n",
      "Confusion matrix for label 163:\n",
      "              precision    recall  f1-score   support\n",
      "\n",
      "       False       0.78      1.00      0.88       847\n",
      "        True       1.00      0.01      0.02       236\n",
      "\n",
      "    accuracy                           0.78      1083\n",
      "   macro avg       0.89      0.50      0.45      1083\n",
      "weighted avg       0.83      0.78      0.69      1083\n",
      "\n",
      "Confusion matrix for label 176:\n",
      "              precision    recall  f1-score   support\n",
      "\n",
      "       False       0.91      1.00      0.96       990\n",
      "        True       0.00      0.00      0.00        93\n",
      "\n",
      "    accuracy                           0.91      1083\n",
      "   macro avg       0.46      0.50      0.48      1083\n",
      "weighted avg       0.84      0.91      0.87      1083\n",
      "\n",
      "Confusion matrix for label 297:\n",
      "              precision    recall  f1-score   support\n",
      "\n",
      "       False       0.99      0.53      0.69       973\n",
      "        True       0.19      0.95      0.31       110\n",
      "\n",
      "    accuracy                           0.57      1083\n",
      "   macro avg       0.59      0.74      0.50      1083\n",
      "weighted avg       0.91      0.57      0.65      1083\n",
      "\n",
      "Confusion matrix for label 463:\n",
      "              precision    recall  f1-score   support\n",
      "\n",
      "       False       0.90      0.99      0.95       975\n",
      "        True       0.25      0.02      0.03       108\n",
      "\n",
      "    accuracy                           0.90      1083\n",
      "   macro avg       0.58      0.51      0.49      1083\n",
      "weighted avg       0.84      0.90      0.85      1083\n",
      "\n",
      "Confusion matrix for label 743:\n",
      "              precision    recall  f1-score   support\n",
      "\n",
      "       False       0.99      0.74      0.85       967\n",
      "        True       0.30      0.93      0.46       116\n",
      "\n",
      "    accuracy                           0.76      1083\n",
      "   macro avg       0.65      0.84      0.65      1083\n",
      "weighted avg       0.92      0.76      0.81      1083\n",
      "\n",
      "Confusion matrix for label 747:\n",
      "              precision    recall  f1-score   support\n",
      "\n",
      "       False       0.85      1.00      0.92       916\n",
      "        True       0.00      0.00      0.00       167\n",
      "\n",
      "    accuracy                           0.85      1083\n",
      "   macro avg       0.42      0.50      0.46      1083\n",
      "weighted avg       0.72      0.85      0.78      1083\n",
      "\n",
      "Confusion matrix for label 755:\n",
      "              precision    recall  f1-score   support\n",
      "\n",
      "       False       0.96      0.99      0.98       956\n",
      "        True       0.95      0.69      0.80       127\n",
      "\n",
      "    accuracy                           0.96      1083\n",
      "   macro avg       0.95      0.84      0.89      1083\n",
      "weighted avg       0.96      0.96      0.96      1083\n",
      "\n"
     ]
    }
   ],
   "source": [
    "\n",
    "conf_mat_dict={}\n",
    "labels = u\n",
    "#for label_col in range(len(labels)):\n",
    "#    conf_mat_dict[labels[label_col]] = confusion_matrix(y_pred=y_pred==label_col, y_true=y_true==label_col)\n",
    "\n",
    "for label_col in range(len(labels)):\n",
    "    conf_mat_dict[labels[label_col]] =  skm.classification_report(y_pred=y_pred==label_col, y_true=y_true==label_col,zero_division=0)\n",
    "\n",
    "\n",
    "    \n",
    "    \n",
    "for label, matrix in conf_mat_dict.items():\n",
    "    print(\"Confusion matrix for label {}:\".format(label))\n",
    "    print(matrix)"
   ]
  },
  {
   "cell_type": "code",
   "execution_count": 63,
   "metadata": {},
   "outputs": [
    {
     "name": "stdout",
     "output_type": "stream",
     "text": [
      "Model: \"sequential_5\"\n",
      "_________________________________________________________________\n",
      "Layer (type)                 Output Shape              Param #   \n",
      "=================================================================\n",
      "conv2d_27 (Conv2D)           (None, 56, 56, 96)        10464     \n",
      "_________________________________________________________________\n",
      "batch_normalization_19 (Batc (None, 56, 56, 96)        384       \n",
      "_________________________________________________________________\n",
      "activation_19 (Activation)   (None, 56, 56, 96)        0         \n",
      "_________________________________________________________________\n",
      "max_pooling2d_15 (MaxPooling (None, 28, 28, 96)        0         \n",
      "_________________________________________________________________\n",
      "conv2d_28 (Conv2D)           (None, 28, 28, 256)       614656    \n",
      "_________________________________________________________________\n",
      "batch_normalization_20 (Batc (None, 28, 28, 256)       1024      \n",
      "_________________________________________________________________\n",
      "activation_20 (Activation)   (None, 28, 28, 256)       0         \n",
      "_________________________________________________________________\n",
      "max_pooling2d_16 (MaxPooling (None, 14, 14, 256)       0         \n",
      "_________________________________________________________________\n",
      "conv2d_29 (Conv2D)           (None, 14, 14, 384)       885120    \n",
      "_________________________________________________________________\n",
      "batch_normalization_21 (Batc (None, 14, 14, 384)       1536      \n",
      "_________________________________________________________________\n",
      "activation_21 (Activation)   (None, 14, 14, 384)       0         \n",
      "_________________________________________________________________\n",
      "conv2d_30 (Conv2D)           (None, 14, 14, 384)       1327488   \n",
      "_________________________________________________________________\n",
      "batch_normalization_22 (Batc (None, 14, 14, 384)       1536      \n",
      "_________________________________________________________________\n",
      "activation_22 (Activation)   (None, 14, 14, 384)       0         \n",
      "_________________________________________________________________\n",
      "conv2d_31 (Conv2D)           (None, 14, 14, 256)       884992    \n",
      "_________________________________________________________________\n",
      "batch_normalization_23 (Batc (None, 14, 14, 256)       1024      \n",
      "_________________________________________________________________\n",
      "activation_23 (Activation)   (None, 14, 14, 256)       0         \n",
      "_________________________________________________________________\n",
      "max_pooling2d_17 (MaxPooling (None, 7, 7, 256)         0         \n",
      "_________________________________________________________________\n",
      "flatten_5 (Flatten)          (None, 12544)             0         \n",
      "_________________________________________________________________\n",
      "dense_14 (Dense)             (None, 4096)              51384320  \n",
      "_________________________________________________________________\n",
      "batch_normalization_24 (Batc (None, 4096)              16384     \n",
      "_________________________________________________________________\n",
      "activation_24 (Activation)   (None, 4096)              0         \n",
      "_________________________________________________________________\n",
      "dropout_8 (Dropout)          (None, 4096)              0         \n",
      "_________________________________________________________________\n",
      "dense_15 (Dense)             (None, 4096)              16781312  \n",
      "_________________________________________________________________\n",
      "batch_normalization_25 (Batc (None, 4096)              16384     \n",
      "_________________________________________________________________\n",
      "activation_25 (Activation)   (None, 4096)              0         \n",
      "_________________________________________________________________\n",
      "dropout_9 (Dropout)          (None, 4096)              0         \n",
      "_________________________________________________________________\n",
      "dense_16 (Dense)             (None, 1000)              4097000   \n",
      "_________________________________________________________________\n",
      "batch_normalization_26 (Batc (None, 1000)              4000      \n",
      "_________________________________________________________________\n",
      "activation_26 (Activation)   (None, 1000)              0         \n",
      "_________________________________________________________________\n",
      "dropout_10 (Dropout)         (None, 1000)              0         \n",
      "_________________________________________________________________\n",
      "dense_17 (Dense)             (None, 8)                 8008      \n",
      "_________________________________________________________________\n",
      "batch_normalization_27 (Batc (None, 8)                 32        \n",
      "_________________________________________________________________\n",
      "activation_27 (Activation)   (None, 8)                 0         \n",
      "=================================================================\n",
      "Total params: 76,035,664\n",
      "Trainable params: 76,014,512\n",
      "Non-trainable params: 21,152\n",
      "_________________________________________________________________\n"
     ]
    }
   ],
   "source": [
    "np.random.seed(1000)\n",
    "\n",
    "#Instantiation\n",
    "MattNet = Sequential()\n",
    "\n",
    "#1st Convolutional Layer\n",
    "MattNet.add(Conv2D(filters=96, input_shape=(224,224,3), kernel_size=(6,6), strides=(4,4), padding='same'))\n",
    "MattNet.add(BatchNormalization())\n",
    "MattNet.add(Activation('relu'))\n",
    "MattNet.add(MaxPooling2D(pool_size=(2,2), strides=(2,2), padding='same'))\n",
    "\n",
    "#2nd Convolutional Layer\n",
    "MattNet.add(Conv2D(filters=256, kernel_size=(5, 5), strides=(1,1), padding='same'))\n",
    "MattNet.add(BatchNormalization())\n",
    "MattNet.add(Activation('relu'))\n",
    "MattNet.add(MaxPooling2D(pool_size=(2,2), strides=(2,2), padding='same'))\n",
    "\n",
    "#3rd Convolutional Layer\n",
    "MattNet.add(Conv2D(filters=384, kernel_size=(3,3), strides=(1,1), padding='same'))\n",
    "MattNet.add(BatchNormalization())\n",
    "MattNet.add(Activation('relu'))\n",
    "\n",
    "#4th Convolutional Layer\n",
    "MattNet.add(Conv2D(filters=384, kernel_size=(3,3), strides=(1,1), padding='same'))\n",
    "MattNet.add(BatchNormalization())\n",
    "MattNet.add(Activation('relu'))\n",
    "\n",
    "#5th Convolutional Layer\n",
    "MattNet.add(Conv2D(filters=256, kernel_size=(3,3), strides=(1,1), padding='same'))\n",
    "MattNet.add(BatchNormalization())\n",
    "MattNet.add(Activation('relu'))\n",
    "MattNet.add(MaxPooling2D(pool_size=(2,2), strides=(2,2), padding='same'))\n",
    "\n",
    "#Passing it to a Fully Connected layer\n",
    "MattNet.add(Flatten())\n",
    "# 1st Fully Connected Layer\n",
    "MattNet.add(Dense(4096, input_shape=(32,32,3,)))\n",
    "MattNet.add(BatchNormalization())\n",
    "MattNet.add(Activation('relu'))\n",
    "# Add Dropout to prevent overfitting\n",
    "MattNet.add(Dropout(0.4))\n",
    "\n",
    "#2nd Fully Connected Layer\n",
    "MattNet.add(Dense(4096))\n",
    "MattNet.add(BatchNormalization())\n",
    "MattNet.add(Activation('relu'))\n",
    "#Add Dropout\n",
    "MattNet.add(Dropout(0.4))\n",
    "\n",
    "#3rd Fully Connected Layer\n",
    "MattNet.add(Dense(1000))\n",
    "MattNet.add(BatchNormalization())\n",
    "MattNet.add(Activation('relu'))\n",
    "#Add Dropout\n",
    "MattNet.add(Dropout(0.4))\n",
    "\n",
    "#Output Layer\n",
    "MattNet.add(Dense(classNum))\n",
    "MattNet.add(BatchNormalization())\n",
    "MattNet.add(Activation('softmax'))\n",
    "\n",
    "#Model Summary\n",
    "MattNet.summary()"
   ]
  },
  {
   "cell_type": "code",
   "execution_count": 64,
   "metadata": {},
   "outputs": [
    {
     "name": "stdout",
     "output_type": "stream",
     "text": [
      "Train on 4332 samples, validate on 1083 samples\n",
      "Epoch 1/5\n",
      "4332/4332 [==============================] - 611s 141ms/step - loss: 0.8187 - accuracy: 0.7890 - val_loss: 7.5650 - val_accuracy: 0.0859\n",
      "Epoch 2/5\n",
      "4332/4332 [==============================] - 547s 126ms/step - loss: 0.5870 - accuracy: 0.8693 - val_loss: 2.3823 - val_accuracy: 0.2761\n",
      "Epoch 3/5\n",
      "4332/4332 [==============================] - 491s 113ms/step - loss: 0.5057 - accuracy: 0.8823 - val_loss: 1.8058 - val_accuracy: 0.2502\n",
      "Epoch 4/5\n",
      "4332/4332 [==============================] - 487s 112ms/step - loss: 0.4509 - accuracy: 0.8929 - val_loss: 2.9217 - val_accuracy: 0.1440\n",
      "Epoch 5/5\n",
      "4332/4332 [==============================] - 476s 110ms/step - loss: 0.3949 - accuracy: 0.9164 - val_loss: 2.2219 - val_accuracy: 0.3712\n"
     ]
    }
   ],
   "source": [
    "opt = Adam(lr=0.001)\n",
    "MattNet.compile(optimizer=opt, loss=keras.losses.categorical_crossentropy, metrics=['accuracy'])\n",
    "\n",
    "\n",
    "mattNethistory = MattNet.fit(xtrain, ytrain,\n",
    "epochs=5,\n",
    "verbose=1,\n",
    "validation_data=(xtest, ytest))"
   ]
  },
  {
   "cell_type": "code",
   "execution_count": 76,
   "metadata": {},
   "outputs": [
    {
     "data": {
      "text/plain": [
       "2612"
      ]
     },
     "execution_count": 76,
     "metadata": {},
     "output_type": "execute_result"
    }
   ],
   "source": [
    " 611+547+491+487+476"
   ]
  },
  {
   "cell_type": "code",
   "execution_count": 65,
   "metadata": {},
   "outputs": [],
   "source": [
    "y_pred=MattNet.predict_classes(xtest)\n",
    "y_true=np.argmax(ytest,axis=1)"
   ]
  },
  {
   "cell_type": "code",
   "execution_count": 69,
   "metadata": {},
   "outputs": [
    {
     "name": "stdout",
     "output_type": "stream",
     "text": [
      "Confusion matrix for label 157:\n",
      "              precision    recall  f1-score   support\n",
      "\n",
      "       False       0.90      1.00      0.95       957\n",
      "        True       1.00      0.12      0.21       126\n",
      "\n",
      "    accuracy                           0.90      1083\n",
      "   macro avg       0.95      0.56      0.58      1083\n",
      "weighted avg       0.91      0.90      0.86      1083\n",
      "\n",
      "Confusion matrix for label 163:\n",
      "              precision    recall  f1-score   support\n",
      "\n",
      "       False       0.78      1.00      0.88       847\n",
      "        True       0.00      0.00      0.00       236\n",
      "\n",
      "    accuracy                           0.78      1083\n",
      "   macro avg       0.39      0.50      0.44      1083\n",
      "weighted avg       0.61      0.78      0.69      1083\n",
      "\n",
      "Confusion matrix for label 176:\n",
      "              precision    recall  f1-score   support\n",
      "\n",
      "       False       0.99      0.93      0.96       990\n",
      "        True       0.56      0.94      0.70        93\n",
      "\n",
      "    accuracy                           0.93      1083\n",
      "   macro avg       0.78      0.93      0.83      1083\n",
      "weighted avg       0.96      0.93      0.94      1083\n",
      "\n",
      "Confusion matrix for label 297:\n",
      "              precision    recall  f1-score   support\n",
      "\n",
      "       False       0.92      1.00      0.96       973\n",
      "        True       1.00      0.22      0.36       110\n",
      "\n",
      "    accuracy                           0.92      1083\n",
      "   macro avg       0.96      0.61      0.66      1083\n",
      "weighted avg       0.93      0.92      0.90      1083\n",
      "\n",
      "Confusion matrix for label 463:\n",
      "              precision    recall  f1-score   support\n",
      "\n",
      "       False       0.90      1.00      0.95       975\n",
      "        True       0.00      0.00      0.00       108\n",
      "\n",
      "    accuracy                           0.90      1083\n",
      "   macro avg       0.45      0.50      0.47      1083\n",
      "weighted avg       0.81      0.90      0.85      1083\n",
      "\n",
      "Confusion matrix for label 743:\n",
      "              precision    recall  f1-score   support\n",
      "\n",
      "       False       0.89      1.00      0.94       967\n",
      "        True       0.00      0.00      0.00       116\n",
      "\n",
      "    accuracy                           0.89      1083\n",
      "   macro avg       0.45      0.50      0.47      1083\n",
      "weighted avg       0.80      0.89      0.84      1083\n",
      "\n",
      "Confusion matrix for label 747:\n",
      "              precision    recall  f1-score   support\n",
      "\n",
      "       False       0.97      0.45      0.62       916\n",
      "        True       0.23      0.91      0.37       167\n",
      "\n",
      "    accuracy                           0.52      1083\n",
      "   macro avg       0.60      0.68      0.49      1083\n",
      "weighted avg       0.85      0.52      0.58      1083\n",
      "\n",
      "Confusion matrix for label 755:\n",
      "              precision    recall  f1-score   support\n",
      "\n",
      "       False       1.00      0.88      0.94       956\n",
      "        True       0.53      0.98      0.69       127\n",
      "\n",
      "    accuracy                           0.90      1083\n",
      "   macro avg       0.76      0.93      0.81      1083\n",
      "weighted avg       0.94      0.90      0.91      1083\n",
      "\n"
     ]
    }
   ],
   "source": [
    "\n",
    "conf_mat_dict={}\n",
    "labels = u\n",
    "#for label_col in range(len(labels)):\n",
    "#    conf_mat_dict[labels[label_col]] = confusion_matrix(y_pred=y_pred==label_col, y_true=y_true==label_col)\n",
    "\n",
    "for label_col in range(len(labels)):\n",
    "    conf_mat_dict[labels[label_col]] =  skm.classification_report(y_pred=y_pred==label_col, y_true=y_true==label_col,zero_division=0)\n",
    "\n",
    "\n",
    "    \n",
    "    \n",
    "for label, matrix in conf_mat_dict.items():\n",
    "    print(\"Confusion matrix for label {}:\".format(label))\n",
    "    print(matrix)"
   ]
  },
  {
   "cell_type": "code",
   "execution_count": 67,
   "metadata": {},
   "outputs": [
    {
     "data": {
      "image/png": "[encoded data removed]",
      "text/plain": [
       "<Figure size 432x288 with 2 Axes>"
      ]
     },
     "metadata": {
      "needs_background": "light"
     },
     "output_type": "display_data"
    }
   ],
   "source": [
    "data=confusion_matrix(y_true, y_pred)\n",
    "hm = sns.heatmap(data = data, annot=True) \n"
   ]
  },
  {
   "cell_type": "code",
   "execution_count": null,
   "metadata": {},
   "outputs": [],
   "source": []
  }
 ],
 "metadata": {
  "kernelspec": {
   "display_name": "Python 3",
   "language": "python",
   "name": "python3"
  },
  "language_info": {
   "codemirror_mode": {
    "name": "ipython",
    "version": 3
   },
   "file_extension": ".py",
   "mimetype": "text/x-python",
   "name": "python",
   "nbconvert_exporter": "python",
   "pygments_lexer": "ipython3",
   "version": "3.7.10"
  }
 },
 "nbformat": 4,
 "nbformat_minor": 2
}
