{
 "cells": [
  {
   "cell_type": "code",
   "execution_count": 2,
   "metadata": {},
   "outputs": [],
   "source": [
    "#import packages\n",
    "import numpy as np\n",
    "import imageio\n",
    "from os import walk\n",
    "from os import listdir\n",
    "from os.path import isfile, join\n",
    "import cv2\n",
    "from matplotlib.pyplot import imshow\n",
    "import pytesseract\n"
   ]
  },
  {
   "cell_type": "code",
   "execution_count": 8,
   "metadata": {},
   "outputs": [],
   "source": [
    "from PIL import Image\n",
    "import pytesseract\n",
    "import argparse\n",
    "import cv2\n",
    "import os\n",
    "filename='/Users/mattvalko/Documents/PHD/BurseraPhotos7292020/Venezuela/Bursgrav_MO_Agostini_2588.jpg'\n",
    "\n",
    "\n"
   ]
  },
  {
   "cell_type": "code",
   "execution_count": 4,
   "metadata": {},
   "outputs": [],
   "source": [
    "img=Image.open(filename)\n"
   ]
  },
  {
   "cell_type": "code",
   "execution_count": 5,
   "metadata": {},
   "outputs": [],
   "source": [
    "custom_config = r'--oem 3 --psm 6'\n",
    "text= pytesseract.image_to_string(img, config=custom_config)\n"
   ]
  },
  {
   "cell_type": "code",
   "execution_count": 6,
   "metadata": {},
   "outputs": [
    {
     "name": "stdout",
     "output_type": "stream",
     "text": [
      "5 ; 7 : ey ioe i = = ain Me Smithsonian\n",
      "i ; d ise a Pe ee i C3 isnt\n",
      "col Rais: ieee nS i |\n",
      ". : Cie [lS\n",
      "cm _ copyright reserved |\n",
      "VIISSOURI\n",
      "BOTANICAL GARDEN\n",
      "HERBARIUM\n",
      "N° 3788115\n",
      "he\n",
      "aes |\n",
      "i} Mf ‘\n",
      ", = ¢ g j Mi @\n",
      "— A\n",
      "| a\n",
      "as lf\n",
      "BG Y ty\n",
      "ij if |\n",
      "! a\n",
      "WES pe y 1 oi ,\n",
      "OG — J / | Mi .\n",
      "“= fi\n",
      "> -\" Ge\n",
      "i a Ruyursere Grey eolens (Hx)\n",
      ": i : Tt. Li\n",
      "bi es Determined by Ronald Liesner, 199.D\n",
      "~ ih ‘a Missouri Botanical Garden (MO) °\n",
      "L—_ mares\n",
      "[i Colector y Numero\n",
      "af | VENEZUELA Getulio Agostini & T. de\n",
      "Ncostini a rAR\n",
      "UNIVERSIDAD CENTRAL SZostini 2588\n",
      "DE VENEZUELA\n",
      "F Itad de C 1 t Burs re\n",
      "cena de Biologia FAMILIA DULrSe ceae\n",
      "Bursera G,,4)7.00. \">\n",
      "SRESEEE Ma Veokeud fn. & Manch\n",
      "Nev.: \"“bdalsamo real\"\n",
      "rbol 3 m alto, caducifolio. Corteza de co=\n",
      ", Lor rojise.\n",
      "ESTADO LARA: 2 km NE de Barquisimeto, terre-\n",
      "nos al SO de ei Caserfio Bl Cercado. Vegeta-\n",
      "cion xeréfila. Aprox. 69° 18' 9 ~ 10° OAt V\n",
      "\f",
      "\n"
     ]
    }
   ],
   "source": [
    "print(text)\n",
    "#159 images"
   ]
  },
  {
   "cell_type": "code",
   "execution_count": 7,
   "metadata": {},
   "outputs": [
    {
     "ename": "NameError",
     "evalue": "name 'fieldfiles' is not defined",
     "output_type": "error",
     "traceback": [
      "\u001b[0;31m---------------------------------------------------------------------------\u001b[0m",
      "\u001b[0;31mNameError\u001b[0m                                 Traceback (most recent call last)",
      "\u001b[0;32m<ipython-input-7-3407a6249c17>\u001b[0m in \u001b[0;36m<module>\u001b[0;34m\u001b[0m\n\u001b[1;32m      3\u001b[0m \u001b[0mplantPhotos\u001b[0m \u001b[0;34m=\u001b[0m\u001b[0;34m[\u001b[0m\u001b[0;34m]\u001b[0m\u001b[0;34m\u001b[0m\u001b[0;34m\u001b[0m\u001b[0m\n\u001b[1;32m      4\u001b[0m \u001b[0mshapes\u001b[0m \u001b[0;34m=\u001b[0m\u001b[0;34m[\u001b[0m\u001b[0;34m]\u001b[0m\u001b[0;34m\u001b[0m\u001b[0;34m\u001b[0m\u001b[0m\n\u001b[0;32m----> 5\u001b[0;31m \u001b[0;32mfor\u001b[0m \u001b[0mi\u001b[0m \u001b[0;32min\u001b[0m \u001b[0mfieldfiles\u001b[0m\u001b[0;34m:\u001b[0m\u001b[0;34m\u001b[0m\u001b[0;34m\u001b[0m\u001b[0m\n\u001b[0m\u001b[1;32m      6\u001b[0m     \u001b[0mphto\u001b[0m\u001b[0;34m=\u001b[0m \u001b[0mimageio\u001b[0m\u001b[0;34m.\u001b[0m\u001b[0mimread\u001b[0m\u001b[0;34m(\u001b[0m\u001b[0;34m'/Users/mattvalko/Plant/leafsnap-dataset/dataset/images/field/'\u001b[0m \u001b[0;34m+\u001b[0m \u001b[0mspecies\u001b[0m\u001b[0;34m+\u001b[0m\u001b[0mi\u001b[0m \u001b[0;34m,\u001b[0m \u001b[0mas_gray\u001b[0m\u001b[0;34m=\u001b[0m\u001b[0;32mTrue\u001b[0m\u001b[0;34m)\u001b[0m\u001b[0;34m\u001b[0m\u001b[0;34m\u001b[0m\u001b[0m\n\u001b[1;32m      7\u001b[0m    \u001b[0;31m#phto2=phto[0:675, 0:500]\u001b[0m\u001b[0;34m\u001b[0m\u001b[0;34m\u001b[0m\u001b[0;34m\u001b[0m\u001b[0m\n",
      "\u001b[0;31mNameError\u001b[0m: name 'fieldfiles' is not defined"
     ]
    }
   ],
   "source": [
    "#Load every photo\n",
    "\n",
    "plantPhotos =[]\n",
    "shapes =[]\n",
    "for i in fieldfiles:\n",
    "    phto= imageio.imread('/Users/mattvalko/Plant/leafsnap-dataset/dataset/images/field/' + species+i , as_gray=True)\n",
    "   #phto2=phto[0:675, 0:500]\n",
    "    plantPhotos.append(phto)\n",
    "\n"
   ]
  },
  {
   "cell_type": "code",
   "execution_count": null,
   "metadata": {},
   "outputs": [],
   "source": [
    "#Get the size of every photo\n",
    "shapes =[]\n",
    "for i in plantPhotos:\n",
    "    shapes.append(i.shape)"
   ]
  },
  {
   "cell_type": "code",
   "execution_count": null,
   "metadata": {},
   "outputs": [],
   "source": [
    "print(shapes[0],shapes[1],shapes[2])\n"
   ]
  },
  {
   "cell_type": "code",
   "execution_count": null,
   "metadata": {},
   "outputs": [],
   "source": [
    "total1\n",
    "total2\n"
   ]
  },
  {
   "cell_type": "code",
   "execution_count": null,
   "metadata": {},
   "outputs": [],
   "source": [
    "import scipy.ndimage as nd\n",
    "\n",
    "n,d = nd.label(plantPhotos[0])\n",
    "\n",
    "print(d)\n",
    "#clist = list(map(lambda x: b==x, range(n)))"
   ]
  },
  {
   "cell_type": "code",
   "execution_count": null,
   "metadata": {},
   "outputs": [],
   "source": [
    "import matplotlib.pyplot as plt\n",
    "\n",
    "plt.hist(plantPhotos[0].flatten(), bins='auto')  # arguments are passed to np.histogram\n",
    "plt.title(\"Histogram with 'auto' bins\")\n",
    "plt.show() \n"
   ]
  },
  {
   "cell_type": "code",
   "execution_count": null,
   "metadata": {},
   "outputs": [],
   "source": [
    "imshow(gray,cmap='gray')"
   ]
  },
  {
   "cell_type": "code",
   "execution_count": null,
   "metadata": {},
   "outputs": [],
   "source": [
    "mats=np.zeros(shapes[1]) +(60<plantPhotos[1] ) *1\n",
    "imshow(mats,cmap='gray')\n"
   ]
  },
  {
   "cell_type": "code",
   "execution_count": null,
   "metadata": {},
   "outputs": [],
   "source": [
    "columns = 5\n",
    "plt.figure(figsize=(20,10))\n",
    "for i in range(10):\n",
    "    plt.subplot(10 / columns + 1, columns, i + 1)\n",
    "    imshow(np.zeros(shapes[i]) +(200<plantPhotos[i] ) *1,cmap='gray')"
   ]
  },
  {
   "cell_type": "code",
   "execution_count": null,
   "metadata": {},
   "outputs": [],
   "source": [
    "import scipy.ndimage as nd\n",
    "\n",
    "n,d = nd.label(mats.astype(int))\n",
    "#clist = list(map(lambda x: b==x, range(n)))\n",
    "print(d)\n",
    "print(n)"
   ]
  },
  {
   "cell_type": "code",
   "execution_count": null,
   "metadata": {},
   "outputs": [],
   "source": [
    "import matplotlib.pyplot as plt\n",
    "import numpy as np\n",
    "\n",
    "#gaussian_numbers = np.random.randn(1000)\n",
    "plt.hist(mg)"
   ]
  },
  {
   "cell_type": "code",
   "execution_count": null,
   "metadata": {},
   "outputs": [],
   "source": [
    "print(mats.sum())\n",
    "print(shapes[0][0]*shapes[0][1])"
   ]
  },
  {
   "cell_type": "code",
   "execution_count": null,
   "metadata": {},
   "outputs": [],
   "source": [
    "mats[:,0]"
   ]
  },
  {
   "cell_type": "code",
   "execution_count": null,
   "metadata": {},
   "outputs": [],
   "source": [
    "imshow(mg,cmap='gray')"
   ]
  },
  {
   "cell_type": "code",
   "execution_count": null,
   "metadata": {},
   "outputs": [],
   "source": []
  },
  {
   "cell_type": "code",
   "execution_count": null,
   "metadata": {},
   "outputs": [],
   "source": [
    "from scipy import ndimage, misc\n",
    "#crop_img2 = crop_img>1 *1\n",
    "laplacian = ndimage.laplace(mats)\n"
   ]
  },
  {
   "cell_type": "code",
   "execution_count": null,
   "metadata": {},
   "outputs": [],
   "source": [
    "imshow(laplacian,cmap='gray')"
   ]
  },
  {
   "cell_type": "code",
   "execution_count": null,
   "metadata": {},
   "outputs": [],
   "source": [
    "import sys\n",
    "print(sys.version) "
   ]
  },
  {
   "cell_type": "code",
   "execution_count": null,
   "metadata": {},
   "outputs": [],
   "source": []
  }
 ],
 "metadata": {
  "kernelspec": {
   "display_name": "Python 3",
   "language": "python",
   "name": "python3"
  },
  "language_info": {
   "codemirror_mode": {
    "name": "ipython",
    "version": 3
   },
   "file_extension": ".py",
   "mimetype": "text/x-python",
   "name": "python",
   "nbconvert_exporter": "python",
   "pygments_lexer": "ipython3",
   "version": "3.7.10"
  }
 },
 "nbformat": 4,
 "nbformat_minor": 2
}
