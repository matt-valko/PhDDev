{
 "cells": [
  {
   "cell_type": "code",
   "execution_count": 1,
   "id": "twenty-perspective",
   "metadata": {},
   "outputs": [],
   "source": [
    "import pandas as pd\n",
    "import os\n",
    "from PIL import Image\n",
    "\n",
    "file_paths =[]\n",
    "info =pd.read_csv(\"Documents/Agrorithm/PhD/class_label.csv\")\n"
   ]
  },
  {
   "cell_type": "code",
   "execution_count": 3,
   "id": "anticipated-hurricane",
   "metadata": {},
   "outputs": [],
   "source": [
    "for i in info[\"Path\"]:\n",
    "    im = Image.open(i)\n",
    "    im1 = im.resize((100,100))\n",
    "    im1.save(i.replace(\"Thesis_Data\",\"Thesis_Data_small\"), \"JPEG\", quality=100)\n",
    "                  \n",
    "                       "
   ]
  },
  {
   "cell_type": "code",
   "execution_count": null,
   "id": "incomplete-resort",
   "metadata": {},
   "outputs": [],
   "source": []
  }
 ],
 "metadata": {
  "kernelspec": {
   "display_name": "Python 3",
   "language": "python",
   "name": "python3"
  },
  "language_info": {
   "codemirror_mode": {
    "name": "ipython",
    "version": 3
   },
   "file_extension": ".py",
   "mimetype": "text/x-python",
   "name": "python",
   "nbconvert_exporter": "python",
   "pygments_lexer": "ipython3",
   "version": "3.7.10"
  }
 },
 "nbformat": 4,
 "nbformat_minor": 5
}
